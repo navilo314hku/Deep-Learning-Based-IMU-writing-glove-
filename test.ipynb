{
 "cells": [
  {
   "cell_type": "code",
   "execution_count": 1,
   "id": "3f8dc339-891a-4b55-a992-57604b56b696",
   "metadata": {},
   "outputs": [],
   "source": [
    "import torch\n",
    "import torch.nn as nn\n",
    "import torch.nn.functional as F\n",
    "import torchvision\n",
    "import torchvision.transforms as transforms\n",
    "from torch.utils.data import TensorDataset, DataLoader,Dataset\n",
    "from model_classes.convNet import ConvNet\n",
    "#import torchvision.datasets.ImageFolder \n",
    "import matplotlib.pyplot as plt\n",
    "import numpy as np\n",
    "import os\n",
    "from const import *\n",
    "device = torch.device('cuda' if torch.cuda.is_available() else 'cpu')\n",
    "transform = transforms.Compose(\n",
    "    [transforms.ToTensor(),\n",
    "     transforms.Normalize((0.5), (0.5))])\n",
    "\n",
    "\n",
    "class reportMode():\n",
    "    train=\"train\"\n",
    "    test=\"test\"\n",
    "def report_accuracies(model,batch_size=4,mode=reportMode.test):\n",
    "    def report(dataloader):\n",
    "        classes=[0,1,2,3,4,5,6,7,8,9]\n",
    "        with torch.no_grad():\n",
    "            n_correct = 0\n",
    "            n_samples = 0\n",
    "            n_class_correct = [0 for i in range(10)]\n",
    "            n_class_samples = [0 for i in range(10)]\n",
    "            for images, labels in dataloader:\n",
    "                images = images.to(device)\n",
    "                labels = labels.to(device)\n",
    "                outputs = model(images)\n",
    "                # max returns (value ,index)\n",
    "                _, predicted = torch.max(outputs, 1)\n",
    "                n_samples += labels.size(0)\n",
    "                n_correct += (predicted == labels).sum().item()\n",
    "\n",
    "                for i in range(batch_size):\n",
    "                    contin=0\n",
    "                    for j in range(1,batch_size):\n",
    "                        if(labels.size()==torch.Size([j])):\n",
    "\n",
    "                            contin=1\n",
    "                    if contin:\n",
    "                        continue\n",
    "                    label = labels[i]\n",
    "                    pred = predicted[i]\n",
    "                    if (label == pred):\n",
    "                        n_class_correct[label] += 1\n",
    "                    n_class_samples[label] += 1\n",
    "\n",
    "            acc = 100.0 * n_correct / n_samples\n",
    "            print(f'Accuracy of the network: {acc} %')\n",
    "\n",
    "            for i in range(10):\n",
    "                acc = 100.0 * n_class_correct[i] / n_class_samples[i]\n",
    "                print(f'Accuracy of {classes[i]}: {acc} %')\n",
    "                \n",
    "    test_dataset= torchvision.datasets.ImageFolder(TEST_IMAGE_PATH,transform)\n",
    "    testloader = torch.utils.data.DataLoader(test_dataset, batch_size=batch_size,shuffle=True)\n",
    "    train_dataset = torchvision.datasets.ImageFolder(TRAIN_IMAGE_PATH,transform)\n",
    "    trainloader = torch.utils.data.DataLoader(train_dataset, batch_size=batch_size,shuffle=True)\n",
    "    print(\"Test accuracy\")\n",
    "    report(testloader)\n",
    "    print(\"Train accuracy\")\n",
    "    report(trainloader)\n",
    "    "
   ]
  },
  {
   "cell_type": "code",
   "execution_count": 2,
   "id": "0daf679c-b3a5-499e-99bc-38b84177da02",
   "metadata": {},
   "outputs": [
    {
     "ename": "NameError",
     "evalue": "name 'model' is not defined",
     "output_type": "error",
     "traceback": [
      "\u001b[0;31m---------------------------------------------------------------------------\u001b[0m",
      "\u001b[0;31mNameError\u001b[0m                                 Traceback (most recent call last)",
      "\u001b[0;32m/var/folders/2l/b3b8rt8j60b1bqtxxf00654c0000gn/T/ipykernel_38086/2514317903.py\u001b[0m in \u001b[0;36m<module>\u001b[0;34m\u001b[0m\n\u001b[0;32m----> 1\u001b[0;31m \u001b[0mreport_accuracies\u001b[0m\u001b[0;34m(\u001b[0m\u001b[0mmodel\u001b[0m\u001b[0;34m)\u001b[0m\u001b[0;34m\u001b[0m\u001b[0;34m\u001b[0m\u001b[0m\n\u001b[0m",
      "\u001b[0;31mNameError\u001b[0m: name 'model' is not defined"
     ]
    }
   ],
   "source": []
  },
  {
   "cell_type": "code",
   "execution_count": 3,
   "id": "b7b088b4-a278-4d09-99ef-573d77c02be0",
   "metadata": {},
   "outputs": [
    {
     "name": "stdout",
     "output_type": "stream",
     "text": [
      "Test accuracy\n",
      "Accuracy of the network: 69.51219512195122 %\n",
      "Accuracy of 0: 87.5 %\n",
      "Accuracy of 1: 25.0 %\n",
      "Accuracy of 2: 62.5 %\n",
      "Accuracy of 3: 25.0 %\n",
      "Accuracy of 4: 75.0 %\n",
      "Accuracy of 5: 87.5 %\n",
      "Accuracy of 6: 100.0 %\n",
      "Accuracy of 7: 88.88888888888889 %\n",
      "Accuracy of 8: 71.42857142857143 %\n",
      "Accuracy of 9: 57.142857142857146 %\n",
      "Train accuracy\n",
      "Accuracy of the network: 82.54599701640974 %\n",
      "Accuracy of 0: 100.0 %\n",
      "Accuracy of 1: 100.0 %\n",
      "Accuracy of 2: 40.569395017793596 %\n",
      "Accuracy of 3: 100.0 %\n",
      "Accuracy of 4: 42.013888888888886 %\n",
      "Accuracy of 5: 94.48051948051948 %\n",
      "Accuracy of 6: 100.0 %\n",
      "Accuracy of 7: 100.0 %\n",
      "Accuracy of 8: 100.0 %\n",
      "Accuracy of 9: 100.0 %\n"
     ]
    }
   ],
   "source": [
    "\n",
    "output_size=10\n",
    "model = ConvNet(output_size=10)\n",
    "MODEL_PATH=os.path.join(\"trained_models\",\"30_12.pth\")\n",
    "model.load_state_dict(torch.load(MODEL_PATH,map_location=torch.device('cpu')))\n",
    "model.eval()\n",
    "\n",
    "\n",
    "device = torch.device('cuda' if torch.cuda.is_available() else 'cpu')\n",
    "transform = transforms.Compose(\n",
    "    [transforms.ToTensor(),\n",
    "     transforms.Normalize((0.5), (0.5))])\n",
    "\n",
    "report_accuracies(model)\n"
   ]
  },
  {
   "cell_type": "code",
   "execution_count": 14,
   "id": "faaf37de-dcd7-47b8-82d8-79fe2c446f92",
   "metadata": {},
   "outputs": [
    {
     "name": "stdout",
     "output_type": "stream",
     "text": [
      "Accuracy of the network: 75.13674788662357 %\n",
      "Accuracy of 0: 98.36065573770492 %\n",
      "Accuracy of 1: 94.80968858131487 %\n",
      "Accuracy of 2: 32.25806451612903 %\n",
      "Accuracy of 3: 86.66666666666667 %\n",
      "Accuracy of 4: 33.68055555555556 %\n",
      "Accuracy of 5: 86.40776699029126 %\n",
      "Accuracy of 6: 96.34146341463415 %\n",
      "Accuracy of 7: 95.1219512195122 %\n",
      "Accuracy of 8: 88.88888888888889 %\n",
      "Accuracy of 9: 84.33734939759036 %\n"
     ]
    }
   ],
   "source": []
  },
  {
   "cell_type": "code",
   "execution_count": null,
   "id": "9f751aed-84e0-4a74-ba1e-6347a5df3770",
   "metadata": {},
   "outputs": [],
   "source": []
  }
 ],
 "metadata": {
  "kernelspec": {
   "display_name": "Python 3 (ipykernel)",
   "language": "python",
   "name": "python3"
  },
  "language_info": {
   "codemirror_mode": {
    "name": "ipython",
    "version": 3
   },
   "file_extension": ".py",
   "mimetype": "text/x-python",
   "name": "python",
   "nbconvert_exporter": "python",
   "pygments_lexer": "ipython3",
   "version": "3.9.7"
  }
 },
 "nbformat": 4,
 "nbformat_minor": 5
}
